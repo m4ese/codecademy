{
 "cells": [
  {
   "cell_type": "code",
   "execution_count": 1,
   "metadata": {},
   "outputs": [],
   "source": [
    "import pandas as pd\n",
    "import numpy as np\n",
    "from matplotlib import pyplot as plt"
   ]
  },
  {
   "cell_type": "code",
   "execution_count": 2,
   "metadata": {},
   "outputs": [],
   "source": [
    "#Create your df here:\n",
    "df = pd.read_csv('profiles.csv')"
   ]
  },
  {
   "cell_type": "code",
   "execution_count": 15,
   "metadata": {},
   "outputs": [
    {
     "data": {
      "image/png": "[encoded data removed]",
      "text/plain": [
       "<Figure size 432x288 with 1 Axes>"
      ]
     },
     "metadata": {
      "needs_background": "light"
     },
     "output_type": "display_data"
    },
    {
     "name": "stdout",
     "output_type": "stream",
     "text": [
      "m    35829\n",
      "f    24117\n",
      "Name: sex, dtype: int64\n"
     ]
    },
    {
     "data": {
      "image/png": "[encoded data removed]",
      "text/plain": [
       "<Figure size 432x288 with 1 Axes>"
      ]
     },
     "metadata": {
      "needs_background": "light"
     },
     "output_type": "display_data"
    },
    {
     "data": {
      "text/plain": [
       "(-1.112821928260545,\n",
       " 1.100610568012407,\n",
       " -1.1189229146555009,\n",
       " 1.1137414242477366)"
      ]
     },
     "execution_count": 15,
     "metadata": {},
     "output_type": "execute_result"
    },
    {
     "data": {
      "image/png": "[encoded data removed]",
      "text/plain": [
       "<Figure size 432x288 with 1 Axes>"
      ]
     },
     "metadata": {},
     "output_type": "display_data"
    }
   ],
   "source": [
    "#exploring data\n",
    "#print(df.drinks.value_counts())\n",
    "\n",
    "#print(df[['essay1','sex']].iloc[1])\n",
    "\n",
    "plt.hist(df.age, bins=20)\n",
    "plt.xlabel(\"Age\")\n",
    "plt.ylabel(\"Frequency\")\n",
    "plt.xlim(16, 80)\n",
    "plt.show()\n",
    "\n",
    "plt.cla()\n",
    "\n",
    "print(df.sex.value_counts())\n",
    "plt.bar([0,1],df.sex.value_counts().values)\n",
    "\n",
    "plt.xlabel('Sex')\n",
    "plt.xticks([0,1],labels = ['Male','Female'])\n",
    "plt.show()\n",
    "\n",
    "plt.cla()\n",
    "\n",
    "plt.pie(df.sex.value_counts().values,labels = ['Male','Female'],autopct = '%.2f%%')\n",
    "plt.legend()\n",
    "plt.axis('Equal')\n"
   ]
  },
  {
   "cell_type": "code",
   "execution_count": 43,
   "metadata": {},
   "outputs": [],
   "source": [
    "drink_mapping = {\"not at all\": 0, \"rarely\": 1, \"socially\": 2, \"often\": 3, \"very often\": 4, \"desperately\": 5}\n",
    "drug_mapping = {'never' : 0,'sometimes' : 1,'often': 2}\n",
    "smoke_mapping = {'no':0,'trying to quit':1,'when drinking':2,'sometimes':3,'yes':4}\n",
    "\n",
    "df['drinks_code'] = df.drinks.map(drink_mapping)\n",
    "df['drugs_code'] =df.drinks.map(drug_mapping)\n",
    "df['smokes_code'] =df.smokes.map(smoke_mapping)\n",
    "\n",
    "essay_cols = [\"essay0\",\"essay1\",\"essay2\",\"essay3\",\"essay4\",\"essay5\",\"essay6\",\"essay7\",\"essay8\",\"essay9\"]\n",
    "\n",
    "# Removing the NaNs\n",
    "all_essays = df[essay_cols].replace(np.nan, '', regex=True)\n",
    "# Combining the essays\n",
    "all_essays = all_essays[essay_cols].apply(lambda x: ' '.join(x), axis=1)\n",
    "\n",
    "df[\"essay_len\"] = all_essays.apply(lambda x: len(x))\n",
    "\n",
    "df.sign.dropna(inplace=True)\n",
    "get_sign = lambda x: x.split(' ')[0]\n",
    "df.sign = df.sign.apply(get_sign)\n"
   ]
  },
  {
   "cell_type": "code",
   "execution_count": 45,
   "metadata": {},
   "outputs": [],
   "source": [
    "from sklearn import preprocessing\n",
    "feature_data = df[['smokes_code', 'drinks_code', 'drugs_code', 'essay_len']]\n",
    "\n",
    "x = feature_data.values\n",
    "min_max_scaler = preprocessing.MinMaxScaler()\n",
    "x_scaled = min_max_scaler.fit_transform(x)\n",
    "\n",
    "feature_data = pd.DataFrame(x_scaled, columns=feature_data.columns)"
   ]
  },
  {
   "cell_type": "markdown",
   "metadata": {},
   "source": [
    "# Classification Problems"
   ]
  },
  {
   "cell_type": "code",
   "execution_count": null,
   "metadata": {},
   "outputs": [
    {
     "name": "stderr",
     "output_type": "stream",
     "text": [
      "/anaconda3/lib/python3.7/site-packages/sklearn/utils/validation.py:761: DataConversionWarning: A column-vector y was passed when a 1d array was expected. Please change the shape of y to (n_samples, ), for example using ravel().\n",
      "  y = column_or_1d(y, warn=True)\n"
     ]
    }
   ],
   "source": [
    "#first question: can we predict sex with education level and income?\n",
    "# let's use a SVM\n",
    "num_guys = df[df.sex == 'm'].sex.count()\n",
    "num_girls = df[df.sex == 'f'].sex.count()\n",
    "\n",
    "df = df[df.income !=-1]\n",
    "labels = df.sex.map({'m':0,'f':1})\n",
    "income = df.income\n",
    "\n",
    "\n",
    "from sklearn.svm import SVC\n",
    "from sklearn.model_selection import train_test_split as tts\n",
    "classifier = SVC(kernel = 'linear',C = 0.5)\n",
    "\n",
    "X_train, X_test, y_train, y_test = tts(income,labels)\n",
    "\n",
    "classifier.fit(X_train.values.reshape(-1,1),y_train.values.reshape(-1,1))\n",
    "predictions = classifier.predict(X_test)"
   ]
  },
  {
   "cell_type": "code",
   "execution_count": null,
   "metadata": {},
   "outputs": [],
   "source": []
  }
 ],
 "metadata": {
  "kernelspec": {
   "display_name": "Python 3",
   "language": "python",
   "name": "python3"
  },
  "language_info": {
   "codemirror_mode": {
    "name": "ipython",
    "version": 3
   },
   "file_extension": ".py",
   "mimetype": "text/x-python",
   "name": "python",
   "nbconvert_exporter": "python",
   "pygments_lexer": "ipython3",
   "version": "3.7.3"
  }
 },
 "nbformat": 4,
 "nbformat_minor": 2
}
